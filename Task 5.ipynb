{
 "cells": [
  {
   "cell_type": "code",
   "execution_count": 2,
   "id": "9445802b",
   "metadata": {},
   "outputs": [],
   "source": [
    "\n",
    "import numpy as np             \n",
    "import math\n",
    "import regions                                   \n",
    "import pylab                                \n",
    "import matplotlib                           \n",
    "import matplotlib.gridspec as gridspec      \n",
    "                                           \n",
    "                                           \n",
    "import scipy\n",
    "\n",
    "import astropy.io.fits as fits             \n",
    "                                           \n",
    "from astropy.wcs import WCS                 \n",
    "from astropy import units as u              \n",
    "\n",
    "import pyspeckit as psk                     \n",
    "                                            \n",
    "                                           \n",
    "from spectral_cube import SpectralCube     \n",
    "\n",
    "from reproject import reproject_interp     \n",
    "from reproject.mosaicking import find_optimal_celestial_wcs \n",
    "\n",
    "\n",
    "                                            \n",
    "import sys\n",
    "if not sys.warnoptions:\n",
    "    import warnings\n",
    "    warnings.simplefilter(\"ignore\")\n",
    "\n",
    "                                            \n",
    "%matplotlib inline                             \n",
    "\n",
    "matplotlib.rc('font', family='sans-serif')  \n",
    "matplotlib.rc('text', usetex=True)      \n",
    "\n",
    "\n",
    "\n"
   ]
  },
  {
   "cell_type": "code",
   "execution_count": 6,
   "id": "955cbed6",
   "metadata": {},
   "outputs": [],
   "source": [
    "## Reading in Spectral cubes and converting it to Kelvin and GHz\n",
    "paths=pylab.array([\"A.Dust_Ridge_13C16O.cube.I.pbcor.fits\",\"A.Dust_Ridge_12C18O.cube.I.pbcor.fits\",\n",
    "      \"A.Dust_Ridge_sci.spw29.cube.I.pbcor.fits\",\"A.Dust_Ridge_sci.spw31.cube.I.pbcor.fits\",\n",
    "     \"B.Dust_Ridge_12C16O_1-0.cube.I.pbcor.fits\",\"B.Dust_Ridge_12C17O.cube.I.pbcor.fits\",\n",
    "     \"B.Dust_Ridge_sci.spw29.cube.I.pbcor.fits\",\"B.Dust_Ridge_sci.spw31.cube.I.pbcor.fits\"])\n",
    "names_sc=['sc_13C16O', 'sc_12C18O', 'sc_A_sci.spw29', 'sc_A_sci.spw31', 'sc_12C16O', 'sc_12C17O', 'sc_B_sci.spw29', 'sc_B_sci.spw31']\n",
    "for i, path in enumerate(paths):\n",
    "    sc=SpectralCube.read(path)\n",
    "    sc.allow_huge_operations=True \n",
    "    names_sc[i]= sc.to(u.K)\n",
    "    #names_sc[i]=names_sc[i].with_spectral_unit(u.Hz*10**9) #change Hz-km/s\n",
    "    #was"
   ]
  },
  {
   "cell_type": "code",
   "execution_count": 10,
   "id": "0675ae85",
   "metadata": {},
   "outputs": [],
   "source": [
    "#this takes too damn long to do it a loop so each cube is getting its own cell\n",
    "names=['13C16O', '12C18O', 'A_sci.spw29', 'A_sci.spw31', '12C16O', '12C17O', 'B_sci.spw29', 'B_sci.spw31']\n",
    "spectrum_names=['Spectrum_13C16O', 'Spectrum_12C18O', 'Spectrum_A_sci.spw29', 'Spectrum_A_sci.spw31', \n",
    " 'Spectrum_12C16O', 'Spectrum_12C17O', 'Spectrum_B_sci.spw29', 'Spectrum_B_sci.spw31']\n",
    "\n",
    "z,y,x=pylab.where(names_sc[0].hdu.data==np.nanmax(names_sc[0]))\n",
    "subcube=names_sc[0].hdu.data[:,int(x)-10:int(x)+10,int(y)-10:int(y)+10]\n",
    "spectrum_names[0] = np.average(subcube,axis=(1,2))"
   ]
  },
  {
   "cell_type": "code",
   "execution_count": null,
   "id": "a26f0038",
   "metadata": {},
   "outputs": [],
   "source": [
    "\n",
    "zoom = np.where((freq.value>110.15)*(freq.value<110.25))            \n",
    "zoom#_12CO = spectrum_12[zoom]\n",
    "zoom#_vel = vel[zoom]"
   ]
  }
 ],
 "metadata": {
  "kernelspec": {
   "display_name": "Python 3 (ipykernel)",
   "language": "python",
   "name": "python3"
  },
  "language_info": {
   "codemirror_mode": {
    "name": "ipython",
    "version": 3
   },
   "file_extension": ".py",
   "mimetype": "text/x-python",
   "name": "python",
   "nbconvert_exporter": "python",
   "pygments_lexer": "ipython3",
   "version": "3.9.12"
  }
 },
 "nbformat": 4,
 "nbformat_minor": 5
}

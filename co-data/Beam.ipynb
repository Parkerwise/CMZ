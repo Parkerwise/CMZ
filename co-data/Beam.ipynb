{
 "cells": [
  {
   "cell_type": "code",
   "execution_count": 2,
   "id": "57b2e6fa-1b4b-4d66-876b-2e788c634d39",
   "metadata": {
    "tags": []
   },
   "outputs": [
    {
     "name": "stdout",
     "output_type": "stream",
     "text": [
      "Beam: BMAJ=2.0482749938966403 arcsec BMIN=1.44532752037056 arcsec BPA=-79.51013946533 deg\n"
     ]
    }
   ],
   "source": [
    "from radio_beam import Beam\n",
    "from astropy.io import fits\n",
    "header = fits.getheader('B.Dust_Ridge_12C16O_1-0.cube.I.pbcor.fits')  \n",
    "my_beam = Beam.from_fits_header(header)  \n",
    "print(my_beam)  \n"
   ]
  }
 ],
 "metadata": {
  "kernelspec": {
   "display_name": "Python 3 (ipykernel)",
   "language": "python",
   "name": "python3"
  },
  "language_info": {
   "codemirror_mode": {
    "name": "ipython",
    "version": 3
   },
   "file_extension": ".py",
   "mimetype": "text/x-python",
   "name": "python",
   "nbconvert_exporter": "python",
   "pygments_lexer": "ipython3",
   "version": "3.11.5"
  },
  "widgets": {
   "application/vnd.jupyter.widget-state+json": {
    "state": {},
    "version_major": 2,
    "version_minor": 0
   }
  }
 },
 "nbformat": 4,
 "nbformat_minor": 5
}
